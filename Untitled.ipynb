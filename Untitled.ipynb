{
 "cells": [
  {
   "cell_type": "code",
   "execution_count": 1,
   "id": "b82f2dfd-147e-481d-b52d-d65398d1d1a2",
   "metadata": {},
   "outputs": [],
   "source": [
    "import numpy as np"
   ]
  },
  {
   "cell_type": "code",
   "execution_count": 2,
   "id": "084b832a-38c1-478c-920c-8e23bf68ea6e",
   "metadata": {},
   "outputs": [],
   "source": [
    "from bbox_merge import iou"
   ]
  },
  {
   "cell_type": "code",
   "execution_count": 3,
   "id": "b90409dd-4a44-4374-9fea-774be6670dbc",
   "metadata": {},
   "outputs": [],
   "source": [
    "input_boxes = np.array([\n",
    "    [10,10,20,20,0.4,0], # first box: [ x1, y1, x2, y2, confidence, class_index ]\n",
    "    [11,11,21,21,0.8,1]]) # second box"
   ]
  },
  {
   "cell_type": "code",
   "execution_count": 4,
   "id": "6fa10cc4-3e7f-4c40-b584-7000987dcab5",
   "metadata": {},
   "outputs": [],
   "source": [
    "cat_main = 0"
   ]
  },
  {
   "cell_type": "code",
   "execution_count": 5,
   "id": "239f95fe-137c-4c92-9f0b-8ede10a4179c",
   "metadata": {},
   "outputs": [],
   "source": [
    "cat_sub = 1"
   ]
  },
  {
   "cell_type": "code",
   "execution_count": 6,
   "id": "0c45b763-e16a-4041-9e92-2da5bbd44e0c",
   "metadata": {},
   "outputs": [],
   "source": [
    "main_boxes = input_boxes[input_boxes[:,5] == cat_main]"
   ]
  },
  {
   "cell_type": "code",
   "execution_count": 7,
   "id": "09f0c11e-8683-45df-ba1d-e4429cd38f23",
   "metadata": {},
   "outputs": [
    {
     "data": {
      "text/plain": [
       "array([[10. , 10. , 20. , 20. ,  0.4,  0. ]])"
      ]
     },
     "execution_count": 7,
     "metadata": {},
     "output_type": "execute_result"
    }
   ],
   "source": [
    "main_boxes"
   ]
  },
  {
   "cell_type": "code",
   "execution_count": 9,
   "id": "9e49b6e2-85b0-497f-8aca-76fb781c1f57",
   "metadata": {},
   "outputs": [],
   "source": [
    "sub_boxes = input_boxes[input_boxes[:,5] == cat_sub]"
   ]
  },
  {
   "cell_type": "code",
   "execution_count": 10,
   "id": "18db2a61-11d2-49c7-a1ec-72b189965ce2",
   "metadata": {},
   "outputs": [
    {
     "data": {
      "text/plain": [
       "array([[11. , 11. , 21. , 21. ,  0.8,  1. ]])"
      ]
     },
     "execution_count": 10,
     "metadata": {},
     "output_type": "execute_result"
    }
   ],
   "source": [
    "sub_boxes"
   ]
  },
  {
   "cell_type": "code",
   "execution_count": 12,
   "id": "0eb1bf52-9345-4cd9-84e5-6de7f1957f16",
   "metadata": {},
   "outputs": [],
   "source": [
    "other_boxes = input_boxes[np.logical_and(input_boxes[:,5] != cat_main, input_boxes[:,5] != cat_sub)]"
   ]
  },
  {
   "cell_type": "code",
   "execution_count": 13,
   "id": "67c83d02-2508-4863-898e-dc43f72431fa",
   "metadata": {},
   "outputs": [
    {
     "data": {
      "text/plain": [
       "array([], shape=(0, 6), dtype=float64)"
      ]
     },
     "execution_count": 13,
     "metadata": {},
     "output_type": "execute_result"
    }
   ],
   "source": [
    "other_boxes"
   ]
  },
  {
   "cell_type": "code",
   "execution_count": 14,
   "id": "2358bf13-b96b-4ff3-b981-23c372406a5b",
   "metadata": {},
   "outputs": [],
   "source": [
    "main_coordinates = main_boxes[:,:4]"
   ]
  },
  {
   "cell_type": "code",
   "execution_count": 17,
   "id": "ceac1bb3-715b-431e-b361-1b1af38883b2",
   "metadata": {},
   "outputs": [],
   "source": [
    "sub_coordinates = sub_boxes[:,:4]"
   ]
  },
  {
   "cell_type": "code",
   "execution_count": 19,
   "id": "93ef63eb-d58e-476c-bbdd-70035e3d7bfd",
   "metadata": {},
   "outputs": [],
   "source": [
    "intersections = iou(main_coordinates, sub_coordinates)"
   ]
  },
  {
   "cell_type": "code",
   "execution_count": 20,
   "id": "0ca74b8b-b86f-418e-8e19-479f53b535c2",
   "metadata": {},
   "outputs": [
    {
     "data": {
      "text/plain": [
       "array([[0.7]])"
      ]
     },
     "execution_count": 20,
     "metadata": {},
     "output_type": "execute_result"
    }
   ],
   "source": [
    "intersections"
   ]
  },
  {
   "cell_type": "code",
   "execution_count": 21,
   "id": "f51e842b-60d2-4b3f-be5b-6e9b337d57c2",
   "metadata": {},
   "outputs": [],
   "source": [
    "As = np.array([\n",
    "    [40,40,160,160],\n",
    "    [160,80,240,240],\n",
    "    [280,0,360,120],\n",
    "    [320,160,360,320]])"
   ]
  },
  {
   "cell_type": "code",
   "execution_count": 22,
   "id": "6b5f2ed5-fd6a-4f70-8e40-c9f103b084f7",
   "metadata": {},
   "outputs": [],
   "source": [
    "Bs = np.array([\n",
    "    [0,120,200,240],\n",
    "    [120,160,280,280],\n",
    "    [200,80,400,200]])"
   ]
  },
  {
   "cell_type": "code",
   "execution_count": 23,
   "id": "e9dd0a11-3628-4a31-bf76-655c0a3b6dfa",
   "metadata": {},
   "outputs": [],
   "source": [
    "intersections = iou(As, Bs)"
   ]
  },
  {
   "cell_type": "code",
   "execution_count": 24,
   "id": "53b68dea-e774-4179-a7f9-e75b58b219e7",
   "metadata": {},
   "outputs": [
    {
     "data": {
      "text/plain": [
       "array([[0.15, 0.  , 0.  ],\n",
       "       [0.15, 0.25, 0.15],\n",
       "       [0.  , 0.  , 0.11],\n",
       "       [0.  , 0.  , 0.06]])"
      ]
     },
     "execution_count": 24,
     "metadata": {},
     "output_type": "execute_result"
    }
   ],
   "source": [
    "intersections"
   ]
  },
  {
   "cell_type": "code",
   "execution_count": null,
   "id": "b0c92fb2-cae4-40be-af9e-77dd1cef21d0",
   "metadata": {},
   "outputs": [],
   "source": []
  }
 ],
 "metadata": {
  "kernelspec": {
   "display_name": "Python 3 (ipykernel)",
   "language": "python",
   "name": "python3"
  },
  "language_info": {
   "codemirror_mode": {
    "name": "ipython",
    "version": 3
   },
   "file_extension": ".py",
   "mimetype": "text/x-python",
   "name": "python",
   "nbconvert_exporter": "python",
   "pygments_lexer": "ipython3",
   "version": "3.8.10"
  }
 },
 "nbformat": 4,
 "nbformat_minor": 5
}
